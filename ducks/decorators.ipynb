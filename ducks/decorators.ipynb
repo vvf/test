{
 "cells": [
  {
   "cell_type": "code",
   "execution_count": 10,
   "metadata": {
    "collapsed": true,
    "pycharm": {
     "name": "#%%\n"
    }
   },
   "outputs": [
    {
     "name": "stdout",
     "output_type": "stream",
     "text": [
      "swim\n",
      "hike\n",
      "fly\n"
     ]
    }
   ],
   "source": [
    "# variant 1\n",
    "from typing import Callable\n",
    "\n",
    "\n",
    "class BaseDuck:\n",
    "    __all_actions__ = {}\n",
    "    def do_all(self) -> list:\n",
    "        return [action(self) for action in self.__all_actions__.values()]\n",
    "\n",
    "    @classmethod\n",
    "    def action(cls, method):\n",
    "        if isinstance(method, Callable):\n",
    "            cls.__all_actions__[method.__name__] = method\n",
    "        return method\n",
    "\n",
    "class HikeSwimDuck(BaseDuck):\n",
    "    @BaseDuck.action\n",
    "    def swim(self):\n",
    "        print('swim')\n",
    "        return 'swim'\n",
    "\n",
    "    @BaseDuck.action\n",
    "    def hike(self):\n",
    "        print('hike')\n",
    "        return 'hike'\n",
    "\n",
    "    @BaseDuck.action\n",
    "    def fly(self):\n",
    "        print('fly')\n",
    "        return 'fly'\n",
    "\n",
    "result = HikeSwimDuck().do_all()"
   ]
  },
  {
   "cell_type": "code",
   "execution_count": 11,
   "outputs": [
    {
     "data": {
      "text/plain": "['swim', 'hike', 'fly']"
     },
     "execution_count": 11,
     "metadata": {},
     "output_type": "execute_result"
    }
   ],
   "source": [
    "result"
   ],
   "metadata": {
    "collapsed": false,
    "pycharm": {
     "name": "#%%\n"
    }
   }
  },
  {
   "cell_type": "code",
   "execution_count": 13,
   "outputs": [
    {
     "name": "stdout",
     "output_type": "stream",
     "text": [
      "swim\n",
      "hike\n",
      "fly\n"
     ]
    }
   ],
   "source": [
    "# variant 2\n",
    "from typing import Callable\n",
    "\n",
    "\n",
    "class BaseDuck:\n",
    "    __all_actions__ = {}\n",
    "    def do_all(self) -> list:\n",
    "        return [action(self) for action in self.__all_actions__.values()]\n",
    "\n",
    "def activate_actions(cls):\n",
    "    if issubclass(cls, BaseDuck):\n",
    "        for prop_name, prop in cls.__dict__.items():\n",
    "            if isinstance(prop, Callable) and prop_name.startswith('action_'):\n",
    "                cls.__all_actions__[prop_name[7:]] = prop\n",
    "\n",
    "    return cls\n",
    "\n",
    "@activate_actions\n",
    "class HikeSwimDuck(BaseDuck):\n",
    "    def action_swim(self):\n",
    "        print('swim')\n",
    "        return 'swim'\n",
    "\n",
    "    def action_hike(self):\n",
    "        print('hike')\n",
    "        return 'hike'\n",
    "\n",
    "    def action_fly(self):\n",
    "        print('fly')\n",
    "        return 'fly'\n",
    "\n",
    "result = HikeSwimDuck().do_all()"
   ],
   "metadata": {
    "collapsed": false,
    "pycharm": {
     "name": "#%%\n"
    }
   }
  },
  {
   "cell_type": "code",
   "execution_count": 14,
   "outputs": [
    {
     "data": {
      "text/plain": "['swim', 'hike', 'fly']"
     },
     "execution_count": 14,
     "metadata": {},
     "output_type": "execute_result"
    }
   ],
   "source": [
    "result"
   ],
   "metadata": {
    "collapsed": false,
    "pycharm": {
     "name": "#%%\n"
    }
   }
  },
  {
   "cell_type": "code",
   "execution_count": null,
   "outputs": [],
   "source": [],
   "metadata": {
    "collapsed": false,
    "pycharm": {
     "name": "#%%\n"
    }
   }
  }
 ],
 "metadata": {
  "kernelspec": {
   "display_name": "Python 3",
   "language": "python",
   "name": "python3"
  },
  "language_info": {
   "codemirror_mode": {
    "name": "ipython",
    "version": 2
   },
   "file_extension": ".py",
   "mimetype": "text/x-python",
   "name": "python",
   "nbconvert_exporter": "python",
   "pygments_lexer": "ipython2",
   "version": "2.7.6"
  }
 },
 "nbformat": 4,
 "nbformat_minor": 0
}