{
 "cells": [
  {
   "cell_type": "code",
   "execution_count": 6,
   "outputs": [
    {
     "name": "stdout",
     "output_type": "stream",
     "text": [
      "swim\n",
      "hike\n",
      "fly\n"
     ]
    }
   ],
   "source": [
    "from typing import Callable\n",
    "\n",
    "\n",
    "class DuckMetaClass(type):\n",
    "    def __new__(cls, *args, **kwargs):\n",
    "        obj = super().__new__(cls, *args, **kwargs)\n",
    "        obj.__all_actions__ = {}\n",
    "        for prop_name, prop in obj.__dict__.items():\n",
    "            if isinstance(prop, Callable) and prop_name.startswith('action_'):\n",
    "                obj.__all_actions__[prop_name[7:]] = prop\n",
    "        obj.do_all = lambda self: [action(self) for action in self.__all_actions__.values()]\n",
    "        return obj\n",
    "\n",
    "class BaseDuck(metaclass=DuckMetaClass):\n",
    "    pass\n",
    "\n",
    "class HikeSwimDuck(BaseDuck):\n",
    "    def action_swim(self):\n",
    "        print('swim')\n",
    "        return 'swim'\n",
    "\n",
    "    def action_hike(self):\n",
    "        print('hike')\n",
    "        return 'hike'\n",
    "\n",
    "    def action_fly(self):\n",
    "        print('fly')\n",
    "        return 'fly'\n",
    "\n",
    "\n",
    "result = HikeSwimDuck().do_all()"
   ],
   "metadata": {
    "collapsed": false,
    "pycharm": {
     "name": "#%%\n"
    }
   }
  },
  {
   "cell_type": "code",
   "execution_count": 7,
   "outputs": [
    {
     "data": {
      "text/plain": "['swim', 'hike', 'fly']"
     },
     "execution_count": 7,
     "metadata": {},
     "output_type": "execute_result"
    }
   ],
   "source": [
    "result"
   ],
   "metadata": {
    "collapsed": false,
    "pycharm": {
     "name": "#%%\n"
    }
   }
  },
  {
   "cell_type": "code",
   "execution_count": null,
   "outputs": [],
   "source": [],
   "metadata": {
    "collapsed": false,
    "pycharm": {
     "name": "#%%\n"
    }
   }
  }
 ],
 "metadata": {
  "kernelspec": {
   "display_name": "Python 3",
   "language": "python",
   "name": "python3"
  },
  "language_info": {
   "codemirror_mode": {
    "name": "ipython",
    "version": 2
   },
   "file_extension": ".py",
   "mimetype": "text/x-python",
   "name": "python",
   "nbconvert_exporter": "python",
   "pygments_lexer": "ipython2",
   "version": "2.7.6"
  }
 },
 "nbformat": 4,
 "nbformat_minor": 0
}