{
 "cells": [
  {
   "cell_type": "code",
   "execution_count": 1,
   "outputs": [
    {
     "name": "stdout",
     "output_type": "stream",
     "text": [
      "base\n",
      "fly\n",
      "swim\n",
      "hike\n"
     ]
    }
   ],
   "source": [
    "class BaseDuck:\n",
    "    def do_all(self) -> list:\n",
    "        print('base')\n",
    "        return []\n",
    "\n",
    "class SwimmingDuck(BaseDuck):\n",
    "    def swim(self):\n",
    "        print('swim')\n",
    "        return 'swim'\n",
    "\n",
    "    def do_all(self):\n",
    "        return super().do_all() + [self.swim()]\n",
    "\n",
    "class HikingDuck(BaseDuck):\n",
    "    def hike(self):\n",
    "        print('hike')\n",
    "        return 'hike'\n",
    "\n",
    "    def do_all(self):\n",
    "        return super().do_all() + [self.hike()]\n",
    "\n",
    "class FlyingDuck(BaseDuck):\n",
    "    def fly(self):\n",
    "        print('fly')\n",
    "        return 'fly'\n",
    "\n",
    "    def do_all(self):\n",
    "        return super().do_all() + [self.fly()]\n",
    "\n",
    "class HikeSwimDuck(HikingDuck, SwimmingDuck, FlyingDuck):\n",
    "    pass\n",
    "\n",
    "result = HikeSwimDuck().do_all()"
   ],
   "metadata": {
    "collapsed": false,
    "pycharm": {
     "name": "#%%\n"
    }
   }
  },
  {
   "cell_type": "code",
   "execution_count": 2,
   "outputs": [
    {
     "data": {
      "text/plain": "[['fly'], ['swim'], ['hike']]"
     },
     "execution_count": 2,
     "metadata": {},
     "output_type": "execute_result"
    }
   ],
   "source": [
    "result"
   ],
   "metadata": {
    "collapsed": false,
    "pycharm": {
     "name": "#%%\n"
    }
   }
  },
  {
   "cell_type": "code",
   "execution_count": null,
   "outputs": [],
   "source": [],
   "metadata": {
    "collapsed": false,
    "pycharm": {
     "name": "#%%\n"
    }
   }
  }
 ],
 "metadata": {
  "kernelspec": {
   "display_name": "Python 3",
   "language": "python",
   "name": "python3"
  },
  "language_info": {
   "codemirror_mode": {
    "name": "ipython",
    "version": 2
   },
   "file_extension": ".py",
   "mimetype": "text/x-python",
   "name": "python",
   "nbconvert_exporter": "python",
   "pygments_lexer": "ipython2",
   "version": "2.7.6"
  }
 },
 "nbformat": 4,
 "nbformat_minor": 0
}